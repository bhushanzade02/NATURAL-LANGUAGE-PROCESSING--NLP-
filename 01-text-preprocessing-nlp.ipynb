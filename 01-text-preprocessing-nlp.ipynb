{
 "cells": [
  {
   "cell_type": "code",
   "execution_count": 1,
   "id": "42517a73",
   "metadata": {
    "_cell_guid": "b1076dfc-b9ad-4769-8c92-a6c4dae69d19",
    "_uuid": "8f2839f25d086af736a60e9eeb907d3b93b6e0e5",
    "execution": {
     "iopub.execute_input": "2025-06-30T09:56:12.024369Z",
     "iopub.status.busy": "2025-06-30T09:56:12.023996Z",
     "iopub.status.idle": "2025-06-30T09:56:13.702675Z",
     "shell.execute_reply": "2025-06-30T09:56:13.701546Z"
    },
    "papermill": {
     "duration": 1.690655,
     "end_time": "2025-06-30T09:56:13.704329",
     "exception": false,
     "start_time": "2025-06-30T09:56:12.013674",
     "status": "completed"
    },
    "tags": []
   },
   "outputs": [
    {
     "name": "stdout",
     "output_type": "stream",
     "text": [
      "/kaggle/input/imdbrating/IMDB Dataset.csv\n"
     ]
    }
   ],
   "source": [
    "# This Python 3 environment comes with many helpful analytics libraries installed\n",
    "# It is defined by the kaggle/python Docker image: https://github.com/kaggle/docker-python\n",
    "# For example, here's several helpful packages to load\n",
    "\n",
    "import numpy as np # linear algebra\n",
    "import pandas as pd # data processing, CSV file I/O (e.g. pd.read_csv)\n",
    "\n",
    "# Input data files are available in the read-only \"../input/\" directory\n",
    "# For example, running this (by clicking run or pressing Shift+Enter) will list all files under the input directory\n",
    "\n",
    "import os\n",
    "for dirname, _, filenames in os.walk('/kaggle/input'):\n",
    "    for filename in filenames:\n",
    "        print(os.path.join(dirname, filename))\n",
    "\n",
    "# You can write up to 20GB to the current directory (/kaggle/working/) that gets preserved as output when you create a version using \"Save & Run All\" \n",
    "# You can also write temporary files to /kaggle/temp/, but they won't be saved outside of the current session"
   ]
  },
  {
   "cell_type": "code",
   "execution_count": 2,
   "id": "0c3ede7f",
   "metadata": {
    "execution": {
     "iopub.execute_input": "2025-06-30T09:56:13.720305Z",
     "iopub.status.busy": "2025-06-30T09:56:13.719876Z",
     "iopub.status.idle": "2025-06-30T09:56:15.088625Z",
     "shell.execute_reply": "2025-06-30T09:56:15.087762Z"
    },
    "papermill": {
     "duration": 1.378345,
     "end_time": "2025-06-30T09:56:15.090224",
     "exception": false,
     "start_time": "2025-06-30T09:56:13.711879",
     "status": "completed"
    },
    "tags": []
   },
   "outputs": [
    {
     "data": {
      "text/html": [
       "<div>\n",
       "<style scoped>\n",
       "    .dataframe tbody tr th:only-of-type {\n",
       "        vertical-align: middle;\n",
       "    }\n",
       "\n",
       "    .dataframe tbody tr th {\n",
       "        vertical-align: top;\n",
       "    }\n",
       "\n",
       "    .dataframe thead th {\n",
       "        text-align: right;\n",
       "    }\n",
       "</style>\n",
       "<table border=\"1\" class=\"dataframe\">\n",
       "  <thead>\n",
       "    <tr style=\"text-align: right;\">\n",
       "      <th></th>\n",
       "      <th>review</th>\n",
       "      <th>sentiment</th>\n",
       "    </tr>\n",
       "  </thead>\n",
       "  <tbody>\n",
       "    <tr>\n",
       "      <th>0</th>\n",
       "      <td>One of the other reviewers has mentioned that ...</td>\n",
       "      <td>positive</td>\n",
       "    </tr>\n",
       "    <tr>\n",
       "      <th>1</th>\n",
       "      <td>A wonderful little production. &lt;br /&gt;&lt;br /&gt;The...</td>\n",
       "      <td>positive</td>\n",
       "    </tr>\n",
       "    <tr>\n",
       "      <th>2</th>\n",
       "      <td>I thought this was a wonderful way to spend ti...</td>\n",
       "      <td>positive</td>\n",
       "    </tr>\n",
       "    <tr>\n",
       "      <th>3</th>\n",
       "      <td>Basically there's a family where a little boy ...</td>\n",
       "      <td>negative</td>\n",
       "    </tr>\n",
       "    <tr>\n",
       "      <th>4</th>\n",
       "      <td>Petter Mattei's \"Love in the Time of Money\" is...</td>\n",
       "      <td>positive</td>\n",
       "    </tr>\n",
       "  </tbody>\n",
       "</table>\n",
       "</div>"
      ],
      "text/plain": [
       "                                              review sentiment\n",
       "0  One of the other reviewers has mentioned that ...  positive\n",
       "1  A wonderful little production. <br /><br />The...  positive\n",
       "2  I thought this was a wonderful way to spend ti...  positive\n",
       "3  Basically there's a family where a little boy ...  negative\n",
       "4  Petter Mattei's \"Love in the Time of Money\" is...  positive"
      ]
     },
     "execution_count": 2,
     "metadata": {},
     "output_type": "execute_result"
    }
   ],
   "source": [
    "import pandas as pd\n",
    "\n",
    "df = pd.read_csv(\"/kaggle/input/imdbrating/IMDB Dataset.csv\")\n",
    "df.head()\n"
   ]
  },
  {
   "cell_type": "code",
   "execution_count": 3,
   "id": "e15629c0",
   "metadata": {
    "execution": {
     "iopub.execute_input": "2025-06-30T09:56:15.108122Z",
     "iopub.status.busy": "2025-06-30T09:56:15.107816Z",
     "iopub.status.idle": "2025-06-30T09:56:15.112823Z",
     "shell.execute_reply": "2025-06-30T09:56:15.111877Z"
    },
    "papermill": {
     "duration": 0.015974,
     "end_time": "2025-06-30T09:56:15.114145",
     "exception": false,
     "start_time": "2025-06-30T09:56:15.098171",
     "status": "completed"
    },
    "tags": []
   },
   "outputs": [],
   "source": [
    "text = \"<html><body><p> Movie 1</p><p> Actor - Aamir Khan</p><p> Click here to <a href='http://google.com'>download</a></p></body></html>\"\n"
   ]
  },
  {
   "cell_type": "code",
   "execution_count": 4,
   "id": "3f77d640",
   "metadata": {
    "execution": {
     "iopub.execute_input": "2025-06-30T09:56:15.130414Z",
     "iopub.status.busy": "2025-06-30T09:56:15.129651Z",
     "iopub.status.idle": "2025-06-30T09:56:15.137331Z",
     "shell.execute_reply": "2025-06-30T09:56:15.136526Z"
    },
    "papermill": {
     "duration": 0.017246,
     "end_time": "2025-06-30T09:56:15.138787",
     "exception": false,
     "start_time": "2025-06-30T09:56:15.121541",
     "status": "completed"
    },
    "tags": []
   },
   "outputs": [
    {
     "data": {
      "text/plain": [
       "' Movie 1 Actor - Aamir Khan Click here to download'"
      ]
     },
     "execution_count": 4,
     "metadata": {},
     "output_type": "execute_result"
    }
   ],
   "source": [
    "df.shape\n",
    "df['review'][3].lower()\n",
    "import re\n",
    "def remove_html_tags(text):\n",
    "    pattern = re.compile('<.*?>')\n",
    "    return pattern.sub(r'', text)\n",
    "remove_html_tags(text)"
   ]
  },
  {
   "cell_type": "code",
   "execution_count": 5,
   "id": "bd3b45af",
   "metadata": {
    "execution": {
     "iopub.execute_input": "2025-06-30T09:56:15.154744Z",
     "iopub.status.busy": "2025-06-30T09:56:15.154456Z",
     "iopub.status.idle": "2025-06-30T09:56:15.158735Z",
     "shell.execute_reply": "2025-06-30T09:56:15.157919Z"
    },
    "papermill": {
     "duration": 0.014219,
     "end_time": "2025-06-30T09:56:15.160196",
     "exception": false,
     "start_time": "2025-06-30T09:56:15.145977",
     "status": "completed"
    },
    "tags": []
   },
   "outputs": [],
   "source": [
    "def remove_url(text):\n",
    "    pattern = re.compile(r'https?://\\S+|www\\.\\S+')\n",
    "    return pattern.sub(r'', text)"
   ]
  },
  {
   "cell_type": "code",
   "execution_count": 6,
   "id": "ad9e3bfa",
   "metadata": {
    "execution": {
     "iopub.execute_input": "2025-06-30T09:56:15.175619Z",
     "iopub.status.busy": "2025-06-30T09:56:15.175332Z",
     "iopub.status.idle": "2025-06-30T09:56:15.179324Z",
     "shell.execute_reply": "2025-06-30T09:56:15.178576Z"
    },
    "papermill": {
     "duration": 0.01331,
     "end_time": "2025-06-30T09:56:15.180764",
     "exception": false,
     "start_time": "2025-06-30T09:56:15.167454",
     "status": "completed"
    },
    "tags": []
   },
   "outputs": [],
   "source": [
    "text1 = 'Check out my notebook https://www.kaggle.com/campusx/notebook8223fc1abb'\n",
    "text2 = 'Check out my notebook http://www.kaggle.com/campusx/notebook8223fc1abb'\n",
    "text3 = 'Google search here www.google.com'\n",
    "text4 = 'For notebook click https://www.kaggle.com/campusx/notebook8223fc1abb to search check www.google.com'"
   ]
  },
  {
   "cell_type": "code",
   "execution_count": 7,
   "id": "6391a062",
   "metadata": {
    "execution": {
     "iopub.execute_input": "2025-06-30T09:56:15.196530Z",
     "iopub.status.busy": "2025-06-30T09:56:15.196132Z",
     "iopub.status.idle": "2025-06-30T09:56:15.203759Z",
     "shell.execute_reply": "2025-06-30T09:56:15.202763Z"
    },
    "papermill": {
     "duration": 0.017924,
     "end_time": "2025-06-30T09:56:15.205835",
     "exception": false,
     "start_time": "2025-06-30T09:56:15.187911",
     "status": "completed"
    },
    "tags": []
   },
   "outputs": [
    {
     "data": {
      "text/plain": [
       "'For notebook click  to search check '"
      ]
     },
     "execution_count": 7,
     "metadata": {},
     "output_type": "execute_result"
    }
   ],
   "source": [
    "remove_url(text4)"
   ]
  },
  {
   "cell_type": "code",
   "execution_count": 8,
   "id": "027d2918",
   "metadata": {
    "execution": {
     "iopub.execute_input": "2025-06-30T09:56:15.227323Z",
     "iopub.status.busy": "2025-06-30T09:56:15.226372Z",
     "iopub.status.idle": "2025-06-30T09:56:15.234312Z",
     "shell.execute_reply": "2025-06-30T09:56:15.233302Z"
    },
    "papermill": {
     "duration": 0.020231,
     "end_time": "2025-06-30T09:56:15.237157",
     "exception": false,
     "start_time": "2025-06-30T09:56:15.216926",
     "status": "completed"
    },
    "tags": []
   },
   "outputs": [],
   "source": [
    "import string,time\n",
    "string.punctuation\n",
    "exclude = string.punctuation\n",
    "def remove_punc(text):\n",
    "    for char in exclude:\n",
    "        text = text.replace(char,'')\n",
    "    return text\n",
    "        "
   ]
  },
  {
   "cell_type": "code",
   "execution_count": 9,
   "id": "d13c9e1a",
   "metadata": {
    "execution": {
     "iopub.execute_input": "2025-06-30T09:56:15.259807Z",
     "iopub.status.busy": "2025-06-30T09:56:15.259357Z",
     "iopub.status.idle": "2025-06-30T09:56:15.263808Z",
     "shell.execute_reply": "2025-06-30T09:56:15.263059Z"
    },
    "papermill": {
     "duration": 0.015584,
     "end_time": "2025-06-30T09:56:15.265343",
     "exception": false,
     "start_time": "2025-06-30T09:56:15.249759",
     "status": "completed"
    },
    "tags": []
   },
   "outputs": [],
   "source": [
    "text = 'string. With. Punctuation?'"
   ]
  },
  {
   "cell_type": "code",
   "execution_count": 10,
   "id": "0e6655d4",
   "metadata": {
    "execution": {
     "iopub.execute_input": "2025-06-30T09:56:15.288416Z",
     "iopub.status.busy": "2025-06-30T09:56:15.287935Z",
     "iopub.status.idle": "2025-06-30T09:56:15.294904Z",
     "shell.execute_reply": "2025-06-30T09:56:15.293540Z"
    },
    "papermill": {
     "duration": 0.018609,
     "end_time": "2025-06-30T09:56:15.296913",
     "exception": false,
     "start_time": "2025-06-30T09:56:15.278304",
     "status": "completed"
    },
    "tags": []
   },
   "outputs": [
    {
     "data": {
      "text/plain": [
       "'string With Punctuation'"
      ]
     },
     "execution_count": 10,
     "metadata": {},
     "output_type": "execute_result"
    }
   ],
   "source": [
    "remove_punc(text)"
   ]
  },
  {
   "cell_type": "code",
   "execution_count": 11,
   "id": "d6b45a46",
   "metadata": {
    "execution": {
     "iopub.execute_input": "2025-06-30T09:56:15.316742Z",
     "iopub.status.busy": "2025-06-30T09:56:15.316171Z",
     "iopub.status.idle": "2025-06-30T09:56:15.320266Z",
     "shell.execute_reply": "2025-06-30T09:56:15.319606Z"
    },
    "papermill": {
     "duration": 0.014393,
     "end_time": "2025-06-30T09:56:15.321637",
     "exception": false,
     "start_time": "2025-06-30T09:56:15.307244",
     "status": "completed"
    },
    "tags": []
   },
   "outputs": [],
   "source": [
    "#fast than above\n",
    "def remove_punc1(text):\n",
    "    return text.translate(str.maketrans('', '', exclude))"
   ]
  },
  {
   "cell_type": "code",
   "execution_count": 12,
   "id": "903e53a3",
   "metadata": {
    "execution": {
     "iopub.execute_input": "2025-06-30T09:56:15.337726Z",
     "iopub.status.busy": "2025-06-30T09:56:15.337451Z",
     "iopub.status.idle": "2025-06-30T09:56:15.345847Z",
     "shell.execute_reply": "2025-06-30T09:56:15.345066Z"
    },
    "papermill": {
     "duration": 0.017935,
     "end_time": "2025-06-30T09:56:15.347106",
     "exception": false,
     "start_time": "2025-06-30T09:56:15.329171",
     "status": "completed"
    },
    "tags": []
   },
   "outputs": [],
   "source": [
    "chat_words = {\n",
    "    \"AFAIK\": \"As Far As I Know\",\n",
    "    \"AFK\": \"Away From Keyboard\",\n",
    "    \"ASAP\": \"As Soon As Possible\",\n",
    "    \"ATK\": \"At The Keyboard\",\n",
    "    \"ATM\": \"At The Moment\",\n",
    "    \"A3\": \"Anytime, Anywhere, Anyplace\",\n",
    "    \"BAK\": \"Back At Keyboard\",\n",
    "    \"BBL\": \"Be Back Later\",\n",
    "    \"BBS\": \"Be Back Soon\",\n",
    "    \"BFN\": \"Bye For Now\",\n",
    "    \"B4N\": \"Bye For Now\",\n",
    "    \"BRB\": \"Be Right Back\",\n",
    "    \"BRT\": \"Be Right There\",\n",
    "    \"BTW\": \"By The Way\",\n",
    "    \"B4\": \"Before\",\n",
    "    \"CU\": \"See You\",\n",
    "    \"CUL8R\": \"See You Later\",\n",
    "    \"CYA\": \"See You\",\n",
    "    \"FAQ\": \"Frequently Asked Questions\",\n",
    "    \"FC\": \"Fingers Crossed\",\n",
    "    \"FWIW\": \"For What It's Worth\",\n",
    "    \"FYI\": \"For Your Information\",\n",
    "    \"GAL\": \"Get A Life\",\n",
    "    \"GG\": \"Good Game\",\n",
    "    \"GN\": \"Good Night\",\n",
    "    \"GMTA\": \"Great Minds Think Alike\",\n",
    "    \"GR8\": \"Great!\",\n",
    "    \"G9\": \"Genius\",\n",
    "    \"IC\": \"I See\",\n",
    "    \"ICQ\": \"I Seek You\",\n",
    "    \"ILU\": \"I Love You\",\n",
    "    \"IMHO\": \"In My Honest/Humble Opinion\",\n",
    "    \"IMO\": \"In My Opinion\",\n",
    "    \"IOW\": \"In Other Words\",\n",
    "    \"IRL\": \"In Real Life\",\n",
    "    \"KISS\": \"Keep It Simple, Stupid\",\n",
    "    \"LDR\": \"Long Distance Relationship\",\n",
    "    \"LMAO\": \"Laughing My A** Off\",\n",
    "    \"LOL\": \"Laughing Out Loud\",\n",
    "    \"LTNS\": \"Long Time No See\",\n",
    "    \"L8R\": \"Later\",\n",
    "    \"MTE\": \"My Thoughts Exactly\",\n",
    "    \"M8\": \"Mate\",\n",
    "    \"NRN\": \"No Reply Necessary\",\n",
    "    \"OIC\": \"Oh I See\",\n",
    "    \"PITA\": \"Pain In The A**\",\n",
    "    \"PRT\": \"Party\",\n",
    "    \"PRW\": \"Parents Are Watching\",\n",
    "    \"QPSA?\": \"Que Pasa?\",\n",
    "    \"ROFL\": \"Rolling On The Floor Laughing\",\n",
    "    \"ROFLOL\": \"Rolling On The Floor Laughing Out Loud\",\n",
    "    \"ROTFLMAO\": \"Rolling On The Floor Laughing My A** Off\",\n",
    "    \"SK8\": \"Skate\",\n",
    "    \"STATS\": \"Your sex and age\",\n",
    "    \"ASL\": \"Age, Sex, Location\",\n",
    "    \"THX\": \"Thank You\",\n",
    "    \"TTFN\": \"Ta-Ta For Now!\",\n",
    "    \"TTYL\": \"Talk To You Later\",\n",
    "    \"U\": \"You\",\n",
    "    \"U2\": \"You Too\",\n",
    "    \"U4E\": \"Yours For Ever\",\n",
    "    \"WB\": \"Welcome Back\",\n",
    "    \"WTF\": \"What The F***\",\n",
    "    \"WTG\": \"Way To Go!\",\n",
    "    \"WUF\": \"Where Are You From?\",\n",
    "    \"W8\": \"Wait...\",\n",
    "    \"7K\": \"Sick:-D Laugher\",\n",
    "    \"TFW\": \"That Feeling When\",\n",
    "    \"MFW\": \"My Face When\",\n",
    "    \"MRW\": \"My Reaction When\",\n",
    "    \"IFYP\": \"I Feel Your Pain\",\n",
    "    \"TNTL\": \"Trying Not To Laugh\",\n",
    "    \"JK\": \"Just Kidding\",\n",
    "    \"IDC\": \"I Don't Care\",\n",
    "    \"ILY\": \"I Love You\",\n",
    "    \"IMU\": \"I Miss You\",\n",
    "    \"ADIH\": \"Another Day In Hell\",\n",
    "    \"ZZZ\": \"Sleeping, Bored, Tired\",\n",
    "    \"WYWH\": \"Wish You Were Here\",\n",
    "    \"TIME\": \"Tears In My Eyes\",\n",
    "    \"BAE\": \"Before Anyone Else\",\n",
    "    \"FIMH\": \"Forever In My Heart\",\n",
    "    \"BSAAW\": \"Big Smile And A Wink\",\n",
    "    \"BWL\": \"Bursting With Laughter\",\n",
    "    \"BFF\": \"Best Friends Forever\",\n",
    "    \"CSL\": \"Can’t Stop Laughing\"\n",
    "}\n"
   ]
  },
  {
   "cell_type": "code",
   "execution_count": 13,
   "id": "2cddc1d1",
   "metadata": {
    "execution": {
     "iopub.execute_input": "2025-06-30T09:56:15.363598Z",
     "iopub.status.busy": "2025-06-30T09:56:15.362760Z",
     "iopub.status.idle": "2025-06-30T09:56:15.369160Z",
     "shell.execute_reply": "2025-06-30T09:56:15.368398Z"
    },
    "papermill": {
     "duration": 0.016027,
     "end_time": "2025-06-30T09:56:15.370607",
     "exception": false,
     "start_time": "2025-06-30T09:56:15.354580",
     "status": "completed"
    },
    "tags": []
   },
   "outputs": [
    {
     "data": {
      "text/plain": [
       "{'AFAIK': 'As Far As I Know',\n",
       " 'AFK': 'Away From Keyboard',\n",
       " 'ASAP': 'As Soon As Possible',\n",
       " 'ATK': 'At The Keyboard',\n",
       " 'ATM': 'At The Moment',\n",
       " 'A3': 'Anytime, Anywhere, Anyplace',\n",
       " 'BAK': 'Back At Keyboard',\n",
       " 'BBL': 'Be Back Later',\n",
       " 'BBS': 'Be Back Soon',\n",
       " 'BFN': 'Bye For Now',\n",
       " 'B4N': 'Bye For Now',\n",
       " 'BRB': 'Be Right Back',\n",
       " 'BRT': 'Be Right There',\n",
       " 'BTW': 'By The Way',\n",
       " 'B4': 'Before',\n",
       " 'CU': 'See You',\n",
       " 'CUL8R': 'See You Later',\n",
       " 'CYA': 'See You',\n",
       " 'FAQ': 'Frequently Asked Questions',\n",
       " 'FC': 'Fingers Crossed',\n",
       " 'FWIW': \"For What It's Worth\",\n",
       " 'FYI': 'For Your Information',\n",
       " 'GAL': 'Get A Life',\n",
       " 'GG': 'Good Game',\n",
       " 'GN': 'Good Night',\n",
       " 'GMTA': 'Great Minds Think Alike',\n",
       " 'GR8': 'Great!',\n",
       " 'G9': 'Genius',\n",
       " 'IC': 'I See',\n",
       " 'ICQ': 'I Seek You',\n",
       " 'ILU': 'I Love You',\n",
       " 'IMHO': 'In My Honest/Humble Opinion',\n",
       " 'IMO': 'In My Opinion',\n",
       " 'IOW': 'In Other Words',\n",
       " 'IRL': 'In Real Life',\n",
       " 'KISS': 'Keep It Simple, Stupid',\n",
       " 'LDR': 'Long Distance Relationship',\n",
       " 'LMAO': 'Laughing My A** Off',\n",
       " 'LOL': 'Laughing Out Loud',\n",
       " 'LTNS': 'Long Time No See',\n",
       " 'L8R': 'Later',\n",
       " 'MTE': 'My Thoughts Exactly',\n",
       " 'M8': 'Mate',\n",
       " 'NRN': 'No Reply Necessary',\n",
       " 'OIC': 'Oh I See',\n",
       " 'PITA': 'Pain In The A**',\n",
       " 'PRT': 'Party',\n",
       " 'PRW': 'Parents Are Watching',\n",
       " 'QPSA?': 'Que Pasa?',\n",
       " 'ROFL': 'Rolling On The Floor Laughing',\n",
       " 'ROFLOL': 'Rolling On The Floor Laughing Out Loud',\n",
       " 'ROTFLMAO': 'Rolling On The Floor Laughing My A** Off',\n",
       " 'SK8': 'Skate',\n",
       " 'STATS': 'Your sex and age',\n",
       " 'ASL': 'Age, Sex, Location',\n",
       " 'THX': 'Thank You',\n",
       " 'TTFN': 'Ta-Ta For Now!',\n",
       " 'TTYL': 'Talk To You Later',\n",
       " 'U': 'You',\n",
       " 'U2': 'You Too',\n",
       " 'U4E': 'Yours For Ever',\n",
       " 'WB': 'Welcome Back',\n",
       " 'WTF': 'What The F***',\n",
       " 'WTG': 'Way To Go!',\n",
       " 'WUF': 'Where Are You From?',\n",
       " 'W8': 'Wait...',\n",
       " '7K': 'Sick:-D Laugher',\n",
       " 'TFW': 'That Feeling When',\n",
       " 'MFW': 'My Face When',\n",
       " 'MRW': 'My Reaction When',\n",
       " 'IFYP': 'I Feel Your Pain',\n",
       " 'TNTL': 'Trying Not To Laugh',\n",
       " 'JK': 'Just Kidding',\n",
       " 'IDC': \"I Don't Care\",\n",
       " 'ILY': 'I Love You',\n",
       " 'IMU': 'I Miss You',\n",
       " 'ADIH': 'Another Day In Hell',\n",
       " 'ZZZ': 'Sleeping, Bored, Tired',\n",
       " 'WYWH': 'Wish You Were Here',\n",
       " 'TIME': 'Tears In My Eyes',\n",
       " 'BAE': 'Before Anyone Else',\n",
       " 'FIMH': 'Forever In My Heart',\n",
       " 'BSAAW': 'Big Smile And A Wink',\n",
       " 'BWL': 'Bursting With Laughter',\n",
       " 'BFF': 'Best Friends Forever',\n",
       " 'CSL': 'Can’t Stop Laughing'}"
      ]
     },
     "execution_count": 13,
     "metadata": {},
     "output_type": "execute_result"
    }
   ],
   "source": [
    "chat_words"
   ]
  },
  {
   "cell_type": "code",
   "execution_count": 14,
   "id": "a146f188",
   "metadata": {
    "execution": {
     "iopub.execute_input": "2025-06-30T09:56:15.387762Z",
     "iopub.status.busy": "2025-06-30T09:56:15.387397Z",
     "iopub.status.idle": "2025-06-30T09:56:15.393238Z",
     "shell.execute_reply": "2025-06-30T09:56:15.392152Z"
    },
    "papermill": {
     "duration": 0.016686,
     "end_time": "2025-06-30T09:56:15.394917",
     "exception": false,
     "start_time": "2025-06-30T09:56:15.378231",
     "status": "completed"
    },
    "tags": []
   },
   "outputs": [],
   "source": [
    "def chat_conversion(text):\n",
    "    new_text = []\n",
    "    for w in text.split():\n",
    "        if w.upper() in chat_words:\n",
    "            new_text.append(chat_words[w.upper()])\n",
    "        else:\n",
    "            new_text.append(w)\n",
    "    return \" \".join(new_text)"
   ]
  },
  {
   "cell_type": "code",
   "execution_count": 15,
   "id": "96986775",
   "metadata": {
    "execution": {
     "iopub.execute_input": "2025-06-30T09:56:15.417059Z",
     "iopub.status.busy": "2025-06-30T09:56:15.416783Z",
     "iopub.status.idle": "2025-06-30T09:56:15.422010Z",
     "shell.execute_reply": "2025-06-30T09:56:15.421164Z"
    },
    "papermill": {
     "duration": 0.018306,
     "end_time": "2025-06-30T09:56:15.423520",
     "exception": false,
     "start_time": "2025-06-30T09:56:15.405214",
     "status": "completed"
    },
    "tags": []
   },
   "outputs": [
    {
     "name": "stdout",
     "output_type": "stream",
     "text": [
      "For Your Information delhi is the capital of india\n",
      "In My Honest/Humble Opinion he is the best\n"
     ]
    }
   ],
   "source": [
    "print(chat_conversion('FYI delhi is the capital of india'))\n",
    "print(chat_conversion('IMHO he is the best'))"
   ]
  },
  {
   "cell_type": "code",
   "execution_count": 16,
   "id": "2f2c9215",
   "metadata": {
    "execution": {
     "iopub.execute_input": "2025-06-30T09:56:15.443493Z",
     "iopub.status.busy": "2025-06-30T09:56:15.443165Z",
     "iopub.status.idle": "2025-06-30T09:56:17.729636Z",
     "shell.execute_reply": "2025-06-30T09:56:17.728871Z"
    },
    "papermill": {
     "duration": 2.296351,
     "end_time": "2025-06-30T09:56:17.731090",
     "exception": false,
     "start_time": "2025-06-30T09:56:15.434739",
     "status": "completed"
    },
    "tags": []
   },
   "outputs": [
    {
     "data": {
      "text/plain": [
       "'certain conditions during several generations are modified in the same manner.'"
      ]
     },
     "execution_count": 16,
     "metadata": {},
     "output_type": "execute_result"
    }
   ],
   "source": [
    "from textblob import TextBlob\n",
    "incorrect_text = 'ceertain conditionas duriing seveal ggenerations aree moodified in the saame maner.'\n",
    "\n",
    "textBlb = TextBlob(incorrect_text)\n",
    "\n",
    "textBlb.correct().string"
   ]
  },
  {
   "cell_type": "code",
   "execution_count": 17,
   "id": "726b09f4",
   "metadata": {
    "execution": {
     "iopub.execute_input": "2025-06-30T09:56:17.748364Z",
     "iopub.status.busy": "2025-06-30T09:56:17.747900Z",
     "iopub.status.idle": "2025-06-30T09:56:17.752782Z",
     "shell.execute_reply": "2025-06-30T09:56:17.752099Z"
    },
    "papermill": {
     "duration": 0.015152,
     "end_time": "2025-06-30T09:56:17.754139",
     "exception": false,
     "start_time": "2025-06-30T09:56:17.738987",
     "status": "completed"
    },
    "tags": []
   },
   "outputs": [],
   "source": [
    "\n",
    "from nltk.corpus import stopwords\n",
    "def remove_stopwords(text):\n",
    "    new_text = []\n",
    "    \n",
    "    for word in text.split():\n",
    "        if word in stopwords.words('english'):\n",
    "            new_text.append('')\n",
    "        else:\n",
    "            new_text.append(word)\n",
    "    x = new_text[:]\n",
    "    new_text.clear()\n",
    "    return \" \".join(x)"
   ]
  },
  {
   "cell_type": "code",
   "execution_count": 18,
   "id": "2d142615",
   "metadata": {
    "execution": {
     "iopub.execute_input": "2025-06-30T09:56:17.831754Z",
     "iopub.status.busy": "2025-06-30T09:56:17.831470Z",
     "iopub.status.idle": "2025-06-30T09:56:17.844685Z",
     "shell.execute_reply": "2025-06-30T09:56:17.843871Z"
    },
    "papermill": {
     "duration": 0.023233,
     "end_time": "2025-06-30T09:56:17.846056",
     "exception": false,
     "start_time": "2025-06-30T09:56:17.822823",
     "status": "completed"
    },
    "tags": []
   },
   "outputs": [
    {
     "data": {
      "text/plain": [
       "'probably  all-time favorite movie,  story  selflessness, sacrifice  dedication   noble cause,    preachy  boring.   never gets old, despite   seen   15   times'"
      ]
     },
     "execution_count": 18,
     "metadata": {},
     "output_type": "execute_result"
    }
   ],
   "source": [
    "remove_stopwords('probably my all-time favorite movie, a story of selflessness, sacrifice and dedication to a noble cause, but it\\'s not preachy or boring. it just never gets old, despite my having seen it some 15 or more times')"
   ]
  },
  {
   "cell_type": "code",
   "execution_count": 19,
   "id": "3c06527a",
   "metadata": {
    "execution": {
     "iopub.execute_input": "2025-06-30T09:56:17.863112Z",
     "iopub.status.busy": "2025-06-30T09:56:17.862499Z",
     "iopub.status.idle": "2025-06-30T09:56:17.866056Z",
     "shell.execute_reply": "2025-06-30T09:56:17.865332Z"
    },
    "papermill": {
     "duration": 0.013413,
     "end_time": "2025-06-30T09:56:17.867314",
     "exception": false,
     "start_time": "2025-06-30T09:56:17.853901",
     "status": "completed"
    },
    "tags": []
   },
   "outputs": [],
   "source": [
    "# df['review'].apply(remove_stopwords)"
   ]
  },
  {
   "cell_type": "code",
   "execution_count": 20,
   "id": "75dc9904",
   "metadata": {
    "execution": {
     "iopub.execute_input": "2025-06-30T09:56:17.884028Z",
     "iopub.status.busy": "2025-06-30T09:56:17.883482Z",
     "iopub.status.idle": "2025-06-30T09:56:17.887172Z",
     "shell.execute_reply": "2025-06-30T09:56:17.886353Z"
    },
    "papermill": {
     "duration": 0.013405,
     "end_time": "2025-06-30T09:56:17.888434",
     "exception": false,
     "start_time": "2025-06-30T09:56:17.875029",
     "status": "completed"
    },
    "tags": []
   },
   "outputs": [],
   "source": [
    "# df['review'] = df['review'].str.lower()\n",
    "# df['review'] = df['review'].apply(remove_html_tags)"
   ]
  },
  {
   "cell_type": "code",
   "execution_count": 21,
   "id": "80eabf4b",
   "metadata": {
    "execution": {
     "iopub.execute_input": "2025-06-30T09:56:17.905229Z",
     "iopub.status.busy": "2025-06-30T09:56:17.904546Z",
     "iopub.status.idle": "2025-06-30T09:56:17.908323Z",
     "shell.execute_reply": "2025-06-30T09:56:17.907498Z"
    },
    "papermill": {
     "duration": 0.013583,
     "end_time": "2025-06-30T09:56:17.909701",
     "exception": false,
     "start_time": "2025-06-30T09:56:17.896118",
     "status": "completed"
    },
    "tags": []
   },
   "outputs": [],
   "source": [
    "### 1. Using the split function"
   ]
  },
  {
   "cell_type": "code",
   "execution_count": 22,
   "id": "591fd736",
   "metadata": {
    "execution": {
     "iopub.execute_input": "2025-06-30T09:56:17.926411Z",
     "iopub.status.busy": "2025-06-30T09:56:17.926113Z",
     "iopub.status.idle": "2025-06-30T09:56:17.931068Z",
     "shell.execute_reply": "2025-06-30T09:56:17.930339Z"
    },
    "papermill": {
     "duration": 0.014577,
     "end_time": "2025-06-30T09:56:17.932249",
     "exception": false,
     "start_time": "2025-06-30T09:56:17.917672",
     "status": "completed"
    },
    "tags": []
   },
   "outputs": [
    {
     "data": {
      "text/plain": [
       "['I', 'am', 'going', 'to', 'delhi']"
      ]
     },
     "execution_count": 22,
     "metadata": {},
     "output_type": "execute_result"
    }
   ],
   "source": [
    "# word tokenization\n",
    "sent1 = 'I am going to delhi'\n",
    "sent1.split()"
   ]
  },
  {
   "cell_type": "code",
   "execution_count": 23,
   "id": "378fd5f9",
   "metadata": {
    "execution": {
     "iopub.execute_input": "2025-06-30T09:56:17.949092Z",
     "iopub.status.busy": "2025-06-30T09:56:17.948824Z",
     "iopub.status.idle": "2025-06-30T09:56:17.953928Z",
     "shell.execute_reply": "2025-06-30T09:56:17.953303Z"
    },
    "papermill": {
     "duration": 0.014864,
     "end_time": "2025-06-30T09:56:17.955024",
     "exception": false,
     "start_time": "2025-06-30T09:56:17.940160",
     "status": "completed"
    },
    "tags": []
   },
   "outputs": [
    {
     "data": {
      "text/plain": [
       "['I am going to delhi',\n",
       " ' I will stay there for 3 days',\n",
       " \" Let's hope the trip to be great\"]"
      ]
     },
     "execution_count": 23,
     "metadata": {},
     "output_type": "execute_result"
    }
   ],
   "source": [
    "# sentence tokenization\n",
    "sent2 = 'I am going to delhi. I will stay there for 3 days. Let\\'s hope the trip to be great'\n",
    "sent2.split('.')"
   ]
  },
  {
   "cell_type": "code",
   "execution_count": 24,
   "id": "dcc613b3",
   "metadata": {
    "execution": {
     "iopub.execute_input": "2025-06-30T09:56:17.972465Z",
     "iopub.status.busy": "2025-06-30T09:56:17.972095Z",
     "iopub.status.idle": "2025-06-30T09:56:17.977838Z",
     "shell.execute_reply": "2025-06-30T09:56:17.977014Z"
    },
    "papermill": {
     "duration": 0.015918,
     "end_time": "2025-06-30T09:56:17.979094",
     "exception": false,
     "start_time": "2025-06-30T09:56:17.963176",
     "status": "completed"
    },
    "tags": []
   },
   "outputs": [
    {
     "data": {
      "text/plain": [
       "['I am going to delhi',\n",
       " ' I will stay there for 3 days',\n",
       " \" Let's hope the trip to be great\"]"
      ]
     },
     "execution_count": 24,
     "metadata": {},
     "output_type": "execute_result"
    }
   ],
   "source": [
    "# sentence tokenization\n",
    "sent2 = 'I am going to delhi. I will stay there for 3 days. Let\\'s hope the trip to be great'\n",
    "sent2.split('.')"
   ]
  },
  {
   "cell_type": "code",
   "execution_count": 25,
   "id": "54c4e368",
   "metadata": {
    "execution": {
     "iopub.execute_input": "2025-06-30T09:56:17.996829Z",
     "iopub.status.busy": "2025-06-30T09:56:17.996165Z",
     "iopub.status.idle": "2025-06-30T09:56:18.001282Z",
     "shell.execute_reply": "2025-06-30T09:56:18.000602Z"
    },
    "papermill": {
     "duration": 0.015405,
     "end_time": "2025-06-30T09:56:18.002648",
     "exception": false,
     "start_time": "2025-06-30T09:56:17.987243",
     "status": "completed"
    },
    "tags": []
   },
   "outputs": [
    {
     "data": {
      "text/plain": [
       "['Where do think I should go? I have 3 day holiday']"
      ]
     },
     "execution_count": 25,
     "metadata": {},
     "output_type": "execute_result"
    }
   ],
   "source": [
    "sent4 = 'Where do think I should go? I have 3 day holiday'\n",
    "sent4.split('.')"
   ]
  },
  {
   "cell_type": "code",
   "execution_count": 26,
   "id": "c130f43e",
   "metadata": {
    "execution": {
     "iopub.execute_input": "2025-06-30T09:56:18.020205Z",
     "iopub.status.busy": "2025-06-30T09:56:18.019641Z",
     "iopub.status.idle": "2025-06-30T09:56:18.023380Z",
     "shell.execute_reply": "2025-06-30T09:56:18.022471Z"
    },
    "papermill": {
     "duration": 0.014015,
     "end_time": "2025-06-30T09:56:18.024708",
     "exception": false,
     "start_time": "2025-06-30T09:56:18.010693",
     "status": "completed"
    },
    "tags": []
   },
   "outputs": [],
   "source": [
    "### 2. Regular Expression"
   ]
  },
  {
   "cell_type": "code",
   "execution_count": 27,
   "id": "dd1779ee",
   "metadata": {
    "execution": {
     "iopub.execute_input": "2025-06-30T09:56:18.042571Z",
     "iopub.status.busy": "2025-06-30T09:56:18.041782Z",
     "iopub.status.idle": "2025-06-30T09:56:18.047386Z",
     "shell.execute_reply": "2025-06-30T09:56:18.046631Z"
    },
    "papermill": {
     "duration": 0.015961,
     "end_time": "2025-06-30T09:56:18.048690",
     "exception": false,
     "start_time": "2025-06-30T09:56:18.032729",
     "status": "completed"
    },
    "tags": []
   },
   "outputs": [
    {
     "data": {
      "text/plain": [
       "['I', 'am', 'going', 'to', 'delhi']"
      ]
     },
     "execution_count": 27,
     "metadata": {},
     "output_type": "execute_result"
    }
   ],
   "source": [
    "import re\n",
    "sent3 = 'I am going to delhi!'\n",
    "tokens = re.findall(\"[\\w']+\", sent3)\n",
    "tokens"
   ]
  },
  {
   "cell_type": "code",
   "execution_count": 28,
   "id": "89c89786",
   "metadata": {
    "execution": {
     "iopub.execute_input": "2025-06-30T09:56:18.066476Z",
     "iopub.status.busy": "2025-06-30T09:56:18.065759Z",
     "iopub.status.idle": "2025-06-30T09:56:18.071539Z",
     "shell.execute_reply": "2025-06-30T09:56:18.070758Z"
    },
    "papermill": {
     "duration": 0.016047,
     "end_time": "2025-06-30T09:56:18.072891",
     "exception": false,
     "start_time": "2025-06-30T09:56:18.056844",
     "status": "completed"
    },
    "tags": []
   },
   "outputs": [
    {
     "data": {
      "text/plain": [
       "['Lorem Ipsum is simply dummy text of the printing and typesetting industry',\n",
       " \"\\nLorem Ipsum has been the industry's standard dummy text ever since the 1500s, \\nwhen an unknown printer took a galley of type and scrambled it to make a type specimen book.\"]"
      ]
     },
     "execution_count": 28,
     "metadata": {},
     "output_type": "execute_result"
    }
   ],
   "source": [
    "\n",
    "text = \"\"\"Lorem Ipsum is simply dummy text of the printing and typesetting industry? \n",
    "Lorem Ipsum has been the industry's standard dummy text ever since the 1500s, \n",
    "when an unknown printer took a galley of type and scrambled it to make a type specimen book.\"\"\"\n",
    "sentences = re.compile('[.!?] ').split(text)\n",
    "sentences"
   ]
  },
  {
   "cell_type": "markdown",
   "id": "ef04c1af",
   "metadata": {
    "papermill": {
     "duration": 0.007812,
     "end_time": "2025-06-30T09:56:18.088888",
     "exception": false,
     "start_time": "2025-06-30T09:56:18.081076",
     "status": "completed"
    },
    "tags": []
   },
   "source": [
    "### 3. NLTK"
   ]
  },
  {
   "cell_type": "code",
   "execution_count": 29,
   "id": "97a8cfac",
   "metadata": {
    "execution": {
     "iopub.execute_input": "2025-06-30T09:56:18.107537Z",
     "iopub.status.busy": "2025-06-30T09:56:18.106936Z",
     "iopub.status.idle": "2025-06-30T09:56:18.110810Z",
     "shell.execute_reply": "2025-06-30T09:56:18.110143Z"
    },
    "papermill": {
     "duration": 0.014485,
     "end_time": "2025-06-30T09:56:18.112085",
     "exception": false,
     "start_time": "2025-06-30T09:56:18.097600",
     "status": "completed"
    },
    "tags": []
   },
   "outputs": [],
   "source": [
    "from nltk.tokenize import word_tokenize , sent_tokenize"
   ]
  },
  {
   "cell_type": "code",
   "execution_count": 30,
   "id": "6481f796",
   "metadata": {
    "execution": {
     "iopub.execute_input": "2025-06-30T09:56:18.129479Z",
     "iopub.status.busy": "2025-06-30T09:56:18.129086Z",
     "iopub.status.idle": "2025-06-30T09:56:18.161785Z",
     "shell.execute_reply": "2025-06-30T09:56:18.160843Z"
    },
    "papermill": {
     "duration": 0.042923,
     "end_time": "2025-06-30T09:56:18.163233",
     "exception": false,
     "start_time": "2025-06-30T09:56:18.120310",
     "status": "completed"
    },
    "tags": []
   },
   "outputs": [
    {
     "data": {
      "text/plain": [
       "['I', 'am', 'going', 'to', 'Delhi', '!']"
      ]
     },
     "execution_count": 30,
     "metadata": {},
     "output_type": "execute_result"
    }
   ],
   "source": [
    "sent1= 'I am going to Delhi!'\n",
    "word_tokenize(sent1)"
   ]
  },
  {
   "cell_type": "code",
   "execution_count": 31,
   "id": "5817abf1",
   "metadata": {
    "execution": {
     "iopub.execute_input": "2025-06-30T09:56:18.180976Z",
     "iopub.status.busy": "2025-06-30T09:56:18.180713Z",
     "iopub.status.idle": "2025-06-30T09:56:18.186605Z",
     "shell.execute_reply": "2025-06-30T09:56:18.185738Z"
    },
    "papermill": {
     "duration": 0.01626,
     "end_time": "2025-06-30T09:56:18.187970",
     "exception": false,
     "start_time": "2025-06-30T09:56:18.171710",
     "status": "completed"
    },
    "tags": []
   },
   "outputs": [
    {
     "data": {
      "text/plain": [
       "['Lorem Ipsum is simply dummy text of the printing and typesetting industry?',\n",
       " \"Lorem Ipsum has been the industry's standard dummy text ever since the 1500s, \\nwhen an unknown printer took a galley of type and scrambled it to make a type specimen book.\"]"
      ]
     },
     "execution_count": 31,
     "metadata": {},
     "output_type": "execute_result"
    }
   ],
   "source": [
    "text = \"\"\"Lorem Ipsum is simply dummy text of the printing and typesetting industry? \n",
    "Lorem Ipsum has been the industry's standard dummy text ever since the 1500s, \n",
    "when an unknown printer took a galley of type and scrambled it to make a type specimen book.\"\"\"\n",
    "\n",
    "sent_tokenize(text)"
   ]
  },
  {
   "cell_type": "code",
   "execution_count": 32,
   "id": "9ef99059",
   "metadata": {
    "execution": {
     "iopub.execute_input": "2025-06-30T09:56:18.206282Z",
     "iopub.status.busy": "2025-06-30T09:56:18.205971Z",
     "iopub.status.idle": "2025-06-30T09:56:18.210330Z",
     "shell.execute_reply": "2025-06-30T09:56:18.209358Z"
    },
    "papermill": {
     "duration": 0.015054,
     "end_time": "2025-06-30T09:56:18.211738",
     "exception": false,
     "start_time": "2025-06-30T09:56:18.196684",
     "status": "completed"
    },
    "tags": []
   },
   "outputs": [],
   "source": [
    "sent5 = 'I have a Ph.D in A.I'\n",
    "sent6 = \"We're here to help! mail us at nks@gmail.com\"\n",
    "sent7 = 'A 5km ride cost $10.50'\n"
   ]
  },
  {
   "cell_type": "code",
   "execution_count": 33,
   "id": "cb9941ae",
   "metadata": {
    "execution": {
     "iopub.execute_input": "2025-06-30T09:56:18.230155Z",
     "iopub.status.busy": "2025-06-30T09:56:18.229447Z",
     "iopub.status.idle": "2025-06-30T09:56:18.234691Z",
     "shell.execute_reply": "2025-06-30T09:56:18.233905Z"
    },
    "papermill": {
     "duration": 0.015776,
     "end_time": "2025-06-30T09:56:18.236056",
     "exception": false,
     "start_time": "2025-06-30T09:56:18.220280",
     "status": "completed"
    },
    "tags": []
   },
   "outputs": [
    {
     "data": {
      "text/plain": [
       "['I', 'have', 'a', 'Ph.D', 'in', 'A.I']"
      ]
     },
     "execution_count": 33,
     "metadata": {},
     "output_type": "execute_result"
    }
   ],
   "source": [
    "word_tokenize(sent5)"
   ]
  },
  {
   "cell_type": "code",
   "execution_count": 34,
   "id": "74cac90e",
   "metadata": {
    "execution": {
     "iopub.execute_input": "2025-06-30T09:56:18.254434Z",
     "iopub.status.busy": "2025-06-30T09:56:18.253784Z",
     "iopub.status.idle": "2025-06-30T09:56:18.259047Z",
     "shell.execute_reply": "2025-06-30T09:56:18.258351Z"
    },
    "papermill": {
     "duration": 0.015745,
     "end_time": "2025-06-30T09:56:18.260350",
     "exception": false,
     "start_time": "2025-06-30T09:56:18.244605",
     "status": "completed"
    },
    "tags": []
   },
   "outputs": [
    {
     "data": {
      "text/plain": [
       "['We',\n",
       " \"'re\",\n",
       " 'here',\n",
       " 'to',\n",
       " 'help',\n",
       " '!',\n",
       " 'mail',\n",
       " 'us',\n",
       " 'at',\n",
       " 'nks',\n",
       " '@',\n",
       " 'gmail.com']"
      ]
     },
     "execution_count": 34,
     "metadata": {},
     "output_type": "execute_result"
    }
   ],
   "source": [
    "word_tokenize(sent6)"
   ]
  },
  {
   "cell_type": "code",
   "execution_count": 35,
   "id": "cb662b10",
   "metadata": {
    "execution": {
     "iopub.execute_input": "2025-06-30T09:56:18.278840Z",
     "iopub.status.busy": "2025-06-30T09:56:18.278391Z",
     "iopub.status.idle": "2025-06-30T09:56:18.283775Z",
     "shell.execute_reply": "2025-06-30T09:56:18.282972Z"
    },
    "papermill": {
     "duration": 0.016,
     "end_time": "2025-06-30T09:56:18.285041",
     "exception": false,
     "start_time": "2025-06-30T09:56:18.269041",
     "status": "completed"
    },
    "tags": []
   },
   "outputs": [
    {
     "data": {
      "text/plain": [
       "['A', '5km', 'ride', 'cost', '$', '10.50']"
      ]
     },
     "execution_count": 35,
     "metadata": {},
     "output_type": "execute_result"
    }
   ],
   "source": [
    "word_tokenize(sent7)"
   ]
  },
  {
   "cell_type": "markdown",
   "id": "a365fe67",
   "metadata": {
    "papermill": {
     "duration": 0.008175,
     "end_time": "2025-06-30T09:56:18.302457",
     "exception": false,
     "start_time": "2025-06-30T09:56:18.294282",
     "status": "completed"
    },
    "tags": []
   },
   "source": [
    "# 5 Spacy"
   ]
  },
  {
   "cell_type": "code",
   "execution_count": 36,
   "id": "b310a454",
   "metadata": {
    "execution": {
     "iopub.execute_input": "2025-06-30T09:56:18.322384Z",
     "iopub.status.busy": "2025-06-30T09:56:18.321867Z",
     "iopub.status.idle": "2025-06-30T09:56:28.424273Z",
     "shell.execute_reply": "2025-06-30T09:56:28.423327Z"
    },
    "papermill": {
     "duration": 10.113436,
     "end_time": "2025-06-30T09:56:28.425954",
     "exception": false,
     "start_time": "2025-06-30T09:56:18.312518",
     "status": "completed"
    },
    "tags": []
   },
   "outputs": [],
   "source": [
    "import spacy\n",
    "nlp = spacy.load('en_core_web_sm')"
   ]
  },
  {
   "cell_type": "code",
   "execution_count": 37,
   "id": "d8106614",
   "metadata": {
    "execution": {
     "iopub.execute_input": "2025-06-30T09:56:28.445243Z",
     "iopub.status.busy": "2025-06-30T09:56:28.444760Z",
     "iopub.status.idle": "2025-06-30T09:56:28.448765Z",
     "shell.execute_reply": "2025-06-30T09:56:28.448022Z"
    },
    "papermill": {
     "duration": 0.015231,
     "end_time": "2025-06-30T09:56:28.450203",
     "exception": false,
     "start_time": "2025-06-30T09:56:28.434972",
     "status": "completed"
    },
    "tags": []
   },
   "outputs": [],
   "source": [
    "doc1= sent1\n",
    "doc2= sent2\n",
    "doc3= sent3"
   ]
  },
  {
   "cell_type": "code",
   "execution_count": 38,
   "id": "7dd0428c",
   "metadata": {
    "execution": {
     "iopub.execute_input": "2025-06-30T09:56:28.468775Z",
     "iopub.status.busy": "2025-06-30T09:56:28.468471Z",
     "iopub.status.idle": "2025-06-30T09:56:28.473702Z",
     "shell.execute_reply": "2025-06-30T09:56:28.472539Z"
    },
    "papermill": {
     "duration": 0.015959,
     "end_time": "2025-06-30T09:56:28.474963",
     "exception": false,
     "start_time": "2025-06-30T09:56:28.459004",
     "status": "completed"
    },
    "tags": []
   },
   "outputs": [
    {
     "name": "stdout",
     "output_type": "stream",
     "text": [
      "I\n",
      " \n",
      "a\n",
      "m\n",
      " \n",
      "g\n",
      "o\n",
      "i\n",
      "n\n",
      "g\n",
      " \n",
      "t\n",
      "o\n",
      " \n",
      "d\n",
      "e\n",
      "l\n",
      "h\n",
      "i\n",
      ".\n",
      " \n",
      "I\n",
      " \n",
      "w\n",
      "i\n",
      "l\n",
      "l\n",
      " \n",
      "s\n",
      "t\n",
      "a\n",
      "y\n",
      " \n",
      "t\n",
      "h\n",
      "e\n",
      "r\n",
      "e\n",
      " \n",
      "f\n",
      "o\n",
      "r\n",
      " \n",
      "3\n",
      " \n",
      "d\n",
      "a\n",
      "y\n",
      "s\n",
      ".\n",
      " \n",
      "L\n",
      "e\n",
      "t\n",
      "'\n",
      "s\n",
      " \n",
      "h\n",
      "o\n",
      "p\n",
      "e\n",
      " \n",
      "t\n",
      "h\n",
      "e\n",
      " \n",
      "t\n",
      "r\n",
      "i\n",
      "p\n",
      " \n",
      "t\n",
      "o\n",
      " \n",
      "b\n",
      "e\n",
      " \n",
      "g\n",
      "r\n",
      "e\n",
      "a\n",
      "t\n"
     ]
    }
   ],
   "source": [
    "for token in doc2:\n",
    "    print(token)"
   ]
  },
  {
   "cell_type": "markdown",
   "id": "133b0f56",
   "metadata": {
    "papermill": {
     "duration": 0.008296,
     "end_time": "2025-06-30T09:56:28.491982",
     "exception": false,
     "start_time": "2025-06-30T09:56:28.483686",
     "status": "completed"
    },
    "tags": []
   },
   "source": [
    "# ***STEAMMING***"
   ]
  },
  {
   "cell_type": "code",
   "execution_count": 39,
   "id": "b990fdeb",
   "metadata": {
    "execution": {
     "iopub.execute_input": "2025-06-30T09:56:28.510272Z",
     "iopub.status.busy": "2025-06-30T09:56:28.509979Z",
     "iopub.status.idle": "2025-06-30T09:56:28.514487Z",
     "shell.execute_reply": "2025-06-30T09:56:28.513613Z"
    },
    "papermill": {
     "duration": 0.015408,
     "end_time": "2025-06-30T09:56:28.515893",
     "exception": false,
     "start_time": "2025-06-30T09:56:28.500485",
     "status": "completed"
    },
    "tags": []
   },
   "outputs": [],
   "source": [
    "from nltk.stem.porter import PorterStemmer\n",
    "ps=PorterStemmer()"
   ]
  },
  {
   "cell_type": "code",
   "execution_count": 40,
   "id": "7c004326",
   "metadata": {
    "execution": {
     "iopub.execute_input": "2025-06-30T09:56:28.535692Z",
     "iopub.status.busy": "2025-06-30T09:56:28.535377Z",
     "iopub.status.idle": "2025-06-30T09:56:28.540091Z",
     "shell.execute_reply": "2025-06-30T09:56:28.539158Z"
    },
    "papermill": {
     "duration": 0.016718,
     "end_time": "2025-06-30T09:56:28.541792",
     "exception": false,
     "start_time": "2025-06-30T09:56:28.525074",
     "status": "completed"
    },
    "tags": []
   },
   "outputs": [],
   "source": [
    "def stem_words(text):\n",
    "    return \" \".join([ps.stem(word)for word in text.split()])"
   ]
  },
  {
   "cell_type": "code",
   "execution_count": 41,
   "id": "45eaa4d5",
   "metadata": {
    "execution": {
     "iopub.execute_input": "2025-06-30T09:56:28.561128Z",
     "iopub.status.busy": "2025-06-30T09:56:28.560839Z",
     "iopub.status.idle": "2025-06-30T09:56:28.566147Z",
     "shell.execute_reply": "2025-06-30T09:56:28.565358Z"
    },
    "papermill": {
     "duration": 0.016469,
     "end_time": "2025-06-30T09:56:28.567381",
     "exception": false,
     "start_time": "2025-06-30T09:56:28.550912",
     "status": "completed"
    },
    "tags": []
   },
   "outputs": [
    {
     "data": {
      "text/plain": [
       "'walk walk walk walk'"
      ]
     },
     "execution_count": 41,
     "metadata": {},
     "output_type": "execute_result"
    }
   ],
   "source": [
    "sample = \"walk walks walking walked\"\n",
    "stem_words(sample)"
   ]
  },
  {
   "cell_type": "code",
   "execution_count": 42,
   "id": "70ea7aaf",
   "metadata": {
    "execution": {
     "iopub.execute_input": "2025-06-30T09:56:28.586624Z",
     "iopub.status.busy": "2025-06-30T09:56:28.585835Z",
     "iopub.status.idle": "2025-06-30T09:56:28.593657Z",
     "shell.execute_reply": "2025-06-30T09:56:28.592826Z"
    },
    "papermill": {
     "duration": 0.018705,
     "end_time": "2025-06-30T09:56:28.594894",
     "exception": false,
     "start_time": "2025-06-30T09:56:28.576189",
     "status": "completed"
    },
    "tags": []
   },
   "outputs": [
    {
     "name": "stdout",
     "output_type": "stream",
     "text": [
      "probably my alltime favorite movie a story of selflessness sacrifice and dedication to a noble cause but its not preachy or boring it just never gets old despite my having seen it some 15 or more times in the last 25 years paul lukas performance brings tears to my eyes and bette davis in one of her very few truly sympathetic roles is a delight the kids are as grandma says more like dressedup midgets than children but that only makes them more fun to watch and the mothers slow awakening to whats happening in the world and under her own roof is believable and startling if i had a dozen thumbs theyd all be up for this movie\n"
     ]
    },
    {
     "data": {
      "text/plain": [
       "'probabl my alltim favorit movi a stori of selfless sacrific and dedic to a nobl caus but it not preachi or bore it just never get old despit my have seen it some 15 or more time in the last 25 year paul luka perform bring tear to my eye and bett davi in one of her veri few truli sympathet role is a delight the kid are as grandma say more like dressedup midget than children but that onli make them more fun to watch and the mother slow awaken to what happen in the world and under her own roof is believ and startl if i had a dozen thumb theyd all be up for thi movi'"
      ]
     },
     "execution_count": 42,
     "metadata": {},
     "output_type": "execute_result"
    }
   ],
   "source": [
    "text = 'probably my alltime favorite movie a story of selflessness sacrifice and dedication to a noble cause but its not preachy or boring it just never gets old despite my having seen it some 15 or more times in the last 25 years paul lukas performance brings tears to my eyes and bette davis in one of her very few truly sympathetic roles is a delight the kids are as grandma says more like dressedup midgets than children but that only makes them more fun to watch and the mothers slow awakening to whats happening in the world and under her own roof is believable and startling if i had a dozen thumbs theyd all be up for this movie'\n",
    "print(text)\n",
    "stem_words(text)"
   ]
  },
  {
   "cell_type": "markdown",
   "id": "15f5f00b",
   "metadata": {
    "papermill": {
     "duration": 0.00852,
     "end_time": "2025-06-30T09:56:28.612679",
     "exception": false,
     "start_time": "2025-06-30T09:56:28.604159",
     "status": "completed"
    },
    "tags": []
   },
   "source": [
    "# ***LEMMATIZATION***"
   ]
  },
  {
   "cell_type": "code",
   "execution_count": 43,
   "id": "3293e947",
   "metadata": {
    "execution": {
     "iopub.execute_input": "2025-06-30T09:56:28.631574Z",
     "iopub.status.busy": "2025-06-30T09:56:28.631227Z",
     "iopub.status.idle": "2025-06-30T09:56:31.854792Z",
     "shell.execute_reply": "2025-06-30T09:56:31.853830Z"
    },
    "papermill": {
     "duration": 3.235148,
     "end_time": "2025-06-30T09:56:31.856599",
     "exception": false,
     "start_time": "2025-06-30T09:56:28.621451",
     "status": "completed"
    },
    "tags": []
   },
   "outputs": [
    {
     "name": "stdout",
     "output_type": "stream",
     "text": [
      "Word                Lemma               \n",
      "He                  He                  \n",
      "was                 be                  \n",
      "running             run                 \n",
      "and                 and                 \n",
      "eating              eat                 \n",
      "at                  at                  \n",
      "same                same                \n",
      "time                time                \n",
      "He                  He                  \n",
      "has                 have                \n",
      "bad                 bad                 \n",
      "habit               habit               \n",
      "of                  of                  \n",
      "swimming            swim                \n",
      "after               after               \n",
      "playing             play                \n",
      "long                long                \n",
      "hours               hours               \n",
      "in                  in                  \n",
      "the                 the                 \n",
      "Sun                 Sun                 \n"
     ]
    }
   ],
   "source": [
    "import nltk\n",
    "from nltk.stem import WordNetLemmatizer\n",
    "wordnet_lemmatizer = WordNetLemmatizer()\n",
    "\n",
    "sentence = \"He was running and eating at same time. He has bad habit of swimming after playing long hours in the Sun.\"\n",
    "punctuations=\"?:!.,;\"\n",
    "sentence_words = nltk.word_tokenize(sentence)\n",
    "for word in sentence_words:\n",
    "    if word in punctuations:\n",
    "        sentence_words.remove(word)\n",
    "\n",
    "sentence_words\n",
    "print(\"{0:20}{1:20}\".format(\"Word\",\"Lemma\"))\n",
    "for word in sentence_words:\n",
    "    print (\"{0:20}{1:20}\".format(word,wordnet_lemmatizer.lemmatize(word,pos='v')))"
   ]
  },
  {
   "cell_type": "code",
   "execution_count": null,
   "id": "3ee3b0df",
   "metadata": {
    "papermill": {
     "duration": 0.008679,
     "end_time": "2025-06-30T09:56:31.874946",
     "exception": false,
     "start_time": "2025-06-30T09:56:31.866267",
     "status": "completed"
    },
    "tags": []
   },
   "outputs": [],
   "source": []
  }
 ],
 "metadata": {
  "kaggle": {
   "accelerator": "none",
   "dataSources": [
    {
     "datasetId": 7771253,
     "sourceId": 12328276,
     "sourceType": "datasetVersion"
    }
   ],
   "dockerImageVersionId": 31040,
   "isGpuEnabled": false,
   "isInternetEnabled": true,
   "language": "python",
   "sourceType": "notebook"
  },
  "kernelspec": {
   "display_name": "Python 3",
   "language": "python",
   "name": "python3"
  },
  "language_info": {
   "codemirror_mode": {
    "name": "ipython",
    "version": 3
   },
   "file_extension": ".py",
   "mimetype": "text/x-python",
   "name": "python",
   "nbconvert_exporter": "python",
   "pygments_lexer": "ipython3",
   "version": "3.11.11"
  },
  "papermill": {
   "default_parameters": {},
   "duration": 27.073099,
   "end_time": "2025-06-30T09:56:34.527582",
   "environment_variables": {},
   "exception": null,
   "input_path": "__notebook__.ipynb",
   "output_path": "__notebook__.ipynb",
   "parameters": {},
   "start_time": "2025-06-30T09:56:07.454483",
   "version": "2.6.0"
  }
 },
 "nbformat": 4,
 "nbformat_minor": 5
}
